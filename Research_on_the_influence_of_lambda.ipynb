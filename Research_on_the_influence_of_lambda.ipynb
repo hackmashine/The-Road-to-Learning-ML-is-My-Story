{
  "nbformat": 4,
  "nbformat_minor": 0,
  "metadata": {
    "colab": {
      "provenance": [],
      "authorship_tag": "ABX9TyOcl3qGFXPupKcScHJ48LVQ",
      "include_colab_link": true
    },
    "kernelspec": {
      "name": "python3",
      "display_name": "Python 3"
    },
    "language_info": {
      "name": "python"
    }
  },
  "cells": [
    {
      "cell_type": "markdown",
      "metadata": {
        "id": "view-in-github",
        "colab_type": "text"
      },
      "source": [
        "<a href=\"https://colab.research.google.com/github/hackmashine/The-Road-to-Learning-ML-is-My-Story/blob/main/Research_on_the_influence_of_lambda.ipynb\" target=\"_parent\"><img src=\"https://colab.research.google.com/assets/colab-badge.svg\" alt=\"Open In Colab\"/></a>"
      ]
    },
    {
      "cell_type": "markdown",
      "source": [
        "**The Road to learning ML is my story**"
      ],
      "metadata": {
        "id": "BfOKXH7AXeSQ"
      }
    },
    {
      "cell_type": "code",
      "source": [
        "import numpy as np\n",
        "import pandas as pd\n",
        "from sklearn.model_selection import train_test_split\n",
        "# from sklearn.datasets import load_boston # Устарело\n",
        "from sklearn.linear_model import LinearRegression\n",
        "from sklearn.metrics import mean_squared_error\n",
        "import matplotlib.pyplot as plt"
      ],
      "metadata": {
        "id": "HFri2B7FhFSS"
      },
      "execution_count": null,
      "outputs": []
    },
    {
      "cell_type": "code",
      "source": [
        "\n",
        "n_samples, n_features = 506, 13 # Размер оригинального Boston Housing\n",
        "\n",
        "\n",
        "X = np.random.randn(n_samples, n_features)\n",
        "\n",
        "\n",
        "true_weights = np.random.randn(n_features)\n",
        "\n",
        "\n",
        "noise = np.random.randn(n_samples) * 0.5 # Добавим шум\n",
        "y = X @ true_weights + noise\n",
        "\n",
        "\n",
        "feature_names = [f\"feature_{i}\" for i in range(n_features)]\n",
        "data = pd.DataFrame(X, columns=feature_names)\n",
        "data['target'] = y\n",
        "\n",
        "print(\"Сгенерированный датасет (первые 5 строк):\")\n",
        "print(data.head())\n",
        "print(f\"\\nРазмер датасета: {data.shape}\")\n",
        "\n",
        "\n"
      ],
      "metadata": {
        "colab": {
          "base_uri": "https://localhost:8080/"
        },
        "id": "wND0voOThJai",
        "outputId": "778daa0b-4180-426d-e191-78b9055761d0"
      },
      "execution_count": null,
      "outputs": [
        {
          "output_type": "stream",
          "name": "stdout",
          "text": [
            "Сгенерированный датасет (первые 5 строк):\n",
            "   feature_0  feature_1  feature_2  feature_3  feature_4  feature_5  \\\n",
            "0  -0.881256   0.105862  -1.796985  -1.332445  -1.043829   0.042087   \n",
            "1   0.209902   1.982358   0.305331   0.447827   0.226545   1.052917   \n",
            "2  -0.630424   1.443191   1.323030   0.700746  -0.771047   1.585758   \n",
            "3   0.974810  -1.143188   0.391774  -0.269631  -0.366139   0.930505   \n",
            "4   0.750269  -0.383140  -0.254410   0.209413   0.492448  -0.364143   \n",
            "\n",
            "   feature_6  feature_7  feature_8  feature_9  feature_10  feature_11  \\\n",
            "0  -1.773120  -0.861122  -1.445170   1.055266    0.005863    1.416951   \n",
            "1  -0.802571  -1.208450   1.146178   0.270834   -2.674278   -0.868783   \n",
            "2  -1.424415   0.894524  -1.166956   0.658080    0.756337    1.066538   \n",
            "3  -0.312085   1.504146   0.730186  -0.300442   -1.033954   -2.464330   \n",
            "4  -0.262142  -0.286065  -1.682889  -0.067482   -1.391859    0.496991   \n",
            "\n",
            "   feature_12    target  \n",
            "0    0.153421  3.770505  \n",
            "1   -0.507530  6.910352  \n",
            "2   -1.072460  2.458417  \n",
            "3   -1.536818 -0.728160  \n",
            "4    1.169669  5.396321  \n",
            "\n",
            "Размер датасета: (506, 14)\n"
          ]
        }
      ]
    },
    {
      "cell_type": "code",
      "source": [
        "\n",
        "X = data.drop('target', axis=1).values\n",
        "y = data['target'].values\n",
        "\n",
        "# Разделение на обучающую и тестовую выборки (80/20)\n",
        "X_train, X_test, y_train, y_test = train_test_split(X, y, test_size=0.2, random_state=42)\n",
        "\n",
        "print(f\"Размер обучающей выборки: X_train = {X_train.shape}, y_train = {y_train.shape}\")\n",
        "print(f\"Размер тестовой выборки: X_test = {X_test.shape}, y_test = {y_test.shape}\")"
      ],
      "metadata": {
        "colab": {
          "base_uri": "https://localhost:8080/"
        },
        "id": "PONXTNHRhMPt",
        "outputId": "6cc5a8b7-3f01-4049-91c2-e2a1c18d022a"
      },
      "execution_count": null,
      "outputs": [
        {
          "output_type": "stream",
          "name": "stdout",
          "text": [
            "Размер обучающей выборки: X_train = (404, 13), y_train = (404,)\n",
            "Размер тестовой выборки: X_test = (102, 13), y_test = (102,)\n"
          ]
        }
      ]
    },
    {
      "cell_type": "code",
      "source": [
        "def manual_ridge_regression(X, y, lambda_reg):\n",
        "    \"\"\"\n",
        "    Решает задачу линейной регрессии с L2 регуляризацией (Ridge) аналитически.\n",
        "\n",
        "    Параметры:\n",
        "    X : array-like, форма (n_samples, n_features)\n",
        "        Матрица признаков.\n",
        "    y : array-like, форма (n_samples,)\n",
        "        Вектор целевой переменной.\n",
        "    lambda_reg : float\n",
        "        Параметр регуляризации (лямбда).\n",
        "\n",
        "    Возвращает:\n",
        "    w : ndarray, форма (n_features,)\n",
        "        Вектор весов модели.\n",
        "    \"\"\"\n",
        "    n_samples, n_features = X.shape\n",
        "\n",
        "\n",
        "    X_with_bias = np.c_[np.ones((X.shape[0], 1)), X]\n",
        "    n_features_with_bias = X_with_bias.shape[1]\n",
        "\n",
        "\n",
        "    reg_matrix = lambda_reg * np.eye(n_features_with_bias)\n",
        "    reg_matrix[0, 0] = 0\n",
        "\n",
        "    try:\n",
        "\n",
        "        A = X_with_bias.T @ X_with_bias + reg_matrix\n",
        "\n",
        "        b = X_with_bias.T @ y\n",
        "\n",
        "        w = np.linalg.solve(A, b)\n",
        "\n",
        "        return w\n",
        "    except np.linalg.LinAlgError:\n",
        "        print(f\"Ошибка: Матрица сингулярна при lambda={lambda_reg}. Используем псевдообратную матрицу.\")\n",
        "        A = X_with_bias.T @ X_with_bias + reg_matrix\n",
        "        b = X_with_bias.T @ y\n",
        "        w = np.linalg.pinv(A) @ b\n",
        "        return w\n",
        "\n",
        "\n",
        "def predict(X, w):\n",
        "    \"\"\"Делает предсказания по весам w.\"\"\"\n",
        "    X_with_bias = np.c_[np.ones((X.shape[0], 1)), X]\n",
        "    return X_with_bias @ w\n",
        "\n",
        "\n",
        "def rmse(y_true, y_pred):\n",
        "    \"\"\"Вычисляет корень среднеквадратичной ошибки.\"\"\"\n",
        "    return np.sqrt(mean_squared_error(y_true, y_pred))\n"
      ],
      "metadata": {
        "id": "1kmEYoJrhPhn"
      },
      "execution_count": null,
      "outputs": []
    },
    {
      "cell_type": "code",
      "source": [
        "\n",
        "lambda_value = 1.0\n",
        "print(f\"\\n--- Обучение своей модели Ridge (lambda={lambda_value}) ---\")\n",
        "w_manual = manual_ridge_regression(X_train, y_train, lambda_reg=lambda_value)\n",
        "print(f\"Веса (включая bias): {w_manual}\")\n",
        "\n",
        "\n",
        "y_pred_manual = predict(X_test, w_manual)\n",
        "\n",
        "rmse_manual = rmse(y_test, y_pred_manual)\n",
        "print(f\"RMSE (своя модель, lambda={lambda_value}): {rmse_manual:.4f}\")\n",
        "\n",
        "\n",
        "print(\"\\n--- Обучение стандартной модели sklearn LinearRegression (OLS, без регуляризации) ---\")\n",
        "\n",
        "lr_sklearn = LinearRegression()\n",
        "lr_sklearn.fit(X_train, y_train)\n",
        "\n",
        "\n",
        "y_pred_sklearn = lr_sklearn.predict(X_test)\n",
        "\n",
        "\n",
        "rmse_sklearn = rmse(y_test, y_pred_sklearn)\n",
        "print(f\"RMSE (sklearn LinearRegression): {rmse_sklearn:.4f}\")\n",
        "\n",
        "\n",
        "print(\"\\n--- Сравнение ---\")\n",
        "print(f\"RMSE (своя модель, lambda={lambda_value}): {rmse_manual:.4f}\")\n",
        "print(f\"RMSE (sklearn LinearRegression):       {rmse_sklearn:.4f}\")\n",
        "print(f\"Разница RMSE: {abs(rmse_manual - rmse_sklearn):.4f}\")\n",
        "\n"
      ],
      "metadata": {
        "colab": {
          "base_uri": "https://localhost:8080/"
        },
        "id": "Vn6eCWU7hR4X",
        "outputId": "1b026a21-afad-4ff1-cf3f-a6270fb19de4"
      },
      "execution_count": null,
      "outputs": [
        {
          "output_type": "stream",
          "name": "stdout",
          "text": [
            "\n",
            "--- Обучение своей модели Ridge (lambda=1.0) ---\n",
            "Веса (включая bias): [ 0.01934368  1.33004218  0.81627208  0.09687056 -0.00717356  0.20383116\n",
            "  0.79524799 -1.19013047 -0.33498916 -0.79627814  1.44021357 -1.37409864\n",
            " -0.06841018  0.82928007]\n",
            "RMSE (своя модель, lambda=1.0): 0.5605\n",
            "\n",
            "--- Обучение стандартной модели sklearn LinearRegression (OLS, без регуляризации) ---\n",
            "RMSE (sklearn LinearRegression): 0.5604\n",
            "\n",
            "--- Сравнение ---\n",
            "RMSE (своя модель, lambda=1.0): 0.5605\n",
            "RMSE (sklearn LinearRegression):       0.5604\n",
            "Разница RMSE: 0.0001\n"
          ]
        }
      ]
    },
    {
      "cell_type": "code",
      "source": [
        "\n",
        "print(\"\\n--- Исследование влияния lambda ---\")\n",
        "lambdas = np.logspace(-4, 2, 50)\n",
        "rmse_train_list = []\n",
        "rmse_test_list = []\n",
        "\n",
        "for l in lambdas:\n",
        "    w = manual_ridge_regression(X_train, y_train, lambda_reg=l)\n",
        "    y_pred_train = predict(X_train, w)\n",
        "    y_pred_test = predict(X_test, w)\n",
        "    rmse_train_list.append(rmse(y_train, y_pred_train))\n",
        "    rmse_test_list.append(rmse(y_test, y_pred_test))\n",
        "\n",
        "\n",
        "plt.figure(figsize=(10, 6))\n",
        "plt.semilogx(lambdas, rmse_train_list, label='RMSE (Обучение)')\n",
        "plt.semilogx(lambdas, rmse_test_list, label='RMSE (Тест)')\n",
        "plt.xlabel('Lambda (параметр регуляризации)')\n",
        "plt.ylabel('RMSE')\n",
        "plt.title('Влияние параметра регуляризации Lambda на RMSE')\n",
        "plt.legend()\n",
        "plt.grid(True, which=\"both\", ls=\"-\", alpha=0.2)\n",
        "\n",
        "idx_lambda_1 = np.argmin(np.abs(np.array(lambdas) - 1.0))\n",
        "plt.scatter(lambdas[idx_lambda_1], rmse_test_list[idx_lambda_1], color='red', zorder=5)\n",
        "plt.text(lambdas[idx_lambda_1], rmse_test_list[idx_lambda_1] + 0.01,\n",
        "         f'λ=1.0\\nRMSE={rmse_test_list[idx_lambda_1]:.3f}',\n",
        "         horizontalalignment='right', verticalalignment='bottom')\n",
        "plt.tight_layout()\n",
        "plt.show()\n",
        "\n",
        "#  lambda\n",
        "best_idx = np.argmin(rmse_test_list)\n",
        "best_lambda = lambdas[best_idx]\n",
        "best_rmse = rmse_test_list[best_idx]\n",
        "print(f\"\\nЛучшее значение lambda: {best_lambda:.4f}\")\n",
        "print(f\"Минимальный тестовый RMSE: {best_rmse:.4f}\")\n",
        "\n",
        "# Сравним\n",
        "w_best = manual_ridge_regression(X_train, y_train, lambda_reg=best_lambda)\n",
        "y_pred_best = predict(X_test, w_best)\n",
        "rmse_best_manual = rmse(y_test, y_pred_best)\n",
        "print(f\"RMSE (своя модель, лучший lambda={best_lambda:.4f}): {rmse_best_manual:.4f}\")\n",
        "print(f\"RMSE (sklearn LinearRegression):                    {rmse_sklearn:.4f}\")\n"
      ],
      "metadata": {
        "colab": {
          "base_uri": "https://localhost:8080/",
          "height": 708
        },
        "id": "ig7GStyhhUHs",
        "outputId": "d8193502-375e-4603-8a4e-1d65302b675c"
      },
      "execution_count": null,
      "outputs": [
        {
          "output_type": "stream",
          "name": "stdout",
          "text": [
            "\n",
            "--- Исследование влияния lambda ---\n"
          ]
        },
        {
          "output_type": "display_data",
          "data": {
            "text/plain": [
              "<Figure size 1000x600 with 1 Axes>"
            ],
            "image/png": "[encoded data removed]"
          },
          "metadata": {}
        },
        {
          "output_type": "stream",
          "name": "stdout",
          "text": [
            "\n",
            "Лучшее значение lambda: 0.0001\n",
            "Минимальный тестовый RMSE: 0.5604\n",
            "RMSE (своя модель, лучший lambda=0.0001): 0.5604\n",
            "RMSE (sklearn LinearRegression):                    0.5604\n"
          ]
        }
      ]
    }
  ]
}